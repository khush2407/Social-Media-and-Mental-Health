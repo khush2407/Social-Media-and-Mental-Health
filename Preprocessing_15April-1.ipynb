{
 "cells": [
  {
   "cell_type": "markdown",
   "id": "ff4e4a6d-ce56-4fee-8356-711f0f4dca2b",
   "metadata": {},
   "source": [
    "Preprocessing and feature engineering"
   ]
  },
  {
   "cell_type": "code",
   "execution_count": 1,
   "id": "331994ff",
   "metadata": {},
   "outputs": [
    {
     "name": "stdout",
     "output_type": "stream",
     "text": [
      "Requirement already satisfied: pandas in c:\\users\\prem shah\\appdata\\local\\programs\\python\\python311\\lib\\site-packages (2.2.3)"
     ]
    },
    {
     "name": "stderr",
     "output_type": "stream",
     "text": [
      "WARNING: Ignoring invalid distribution ~andas (C:\\Users\\Prem Shah\\AppData\\Local\\Programs\\Python\\Python311\\Lib\\site-packages)\n",
      "WARNING: Ignoring invalid distribution ~andas (C:\\Users\\Prem Shah\\AppData\\Local\\Programs\\Python\\Python311\\Lib\\site-packages)\n",
      "WARNING: Ignoring invalid distribution ~andas (C:\\Users\\Prem Shah\\AppData\\Local\\Programs\\Python\\Python311\\Lib\\site-packages)\n",
      "\n",
      "[notice] A new release of pip is available: 24.3.1 -> 25.0.1\n",
      "[notice] To update, run: C:\\Users\\Prem Shah\\AppData\\Local\\Programs\\Python\\Python311\\python.exe -m pip install --upgrade pip\n"
     ]
    },
    {
     "name": "stdout",
     "output_type": "stream",
     "text": [
      "\n",
      "Requirement already satisfied: numpy>=1.23.2 in c:\\users\\prem shah\\appdata\\local\\programs\\python\\python311\\lib\\site-packages (from pandas) (1.25.2)\n",
      "Requirement already satisfied: python-dateutil>=2.8.2 in c:\\users\\prem shah\\appdata\\local\\programs\\python\\python311\\lib\\site-packages (from pandas) (2.8.2)\n",
      "Requirement already satisfied: pytz>=2020.1 in c:\\users\\prem shah\\appdata\\local\\programs\\python\\python311\\lib\\site-packages (from pandas) (2023.3)\n",
      "Requirement already satisfied: tzdata>=2022.7 in c:\\users\\prem shah\\appdata\\local\\programs\\python\\python311\\lib\\site-packages (from pandas) (2023.3)\n",
      "Requirement already satisfied: six>=1.5 in c:\\users\\prem shah\\appdata\\local\\programs\\python\\python311\\lib\\site-packages (from python-dateutil>=2.8.2->pandas) (1.16.0)\n",
      "Requirement already satisfied: matplotlib in c:\\users\\prem shah\\appdata\\local\\programs\\python\\python311\\lib\\site-packages (3.7.2)\n",
      "Requirement already satisfied: contourpy>=1.0.1 in c:\\users\\prem shah\\appdata\\local\\programs\\python\\python311\\lib\\site-packages (from matplotlib) (1.1.0)\n",
      "Requirement already satisfied: cycler>=0.10 in c:\\users\\prem shah\\appdata\\local\\programs\\python\\python311\\lib\\site-packages (from matplotlib) (0.11.0)\n",
      "Requirement already satisfied: fonttools>=4.22.0 in c:\\users\\prem shah\\appdata\\local\\programs\\python\\python311\\lib\\site-packages (from matplotlib) (4.42.1)\n",
      "Requirement already satisfied: kiwisolver>=1.0.1 in c:\\users\\prem shah\\appdata\\local\\programs\\python\\python311\\lib\\site-packages (from matplotlib) (1.4.5)\n",
      "Requirement already satisfied: numpy>=1.20 in c:\\users\\prem shah\\appdata\\local\\programs\\python\\python311\\lib\\site-packages (from matplotlib) (1.25.2)\n",
      "Requirement already satisfied: packaging>=20.0 in c:\\users\\prem shah\\appdata\\local\\programs\\python\\python311\\lib\\site-packages (from matplotlib) (23.1)\n",
      "Requirement already satisfied: pillow>=6.2.0 in c:\\users\\prem shah\\appdata\\local\\programs\\python\\python311\\lib\\site-packages (from matplotlib) (9.5.0)\n",
      "Requirement already satisfied: pyparsing<3.1,>=2.3.1 in c:\\users\\prem shah\\appdata\\local\\programs\\python\\python311\\lib\\site-packages (from matplotlib) (3.0.9)\n",
      "Requirement already satisfied: python-dateutil>=2.7 in c:\\users\\prem shah\\appdata\\local\\programs\\python\\python311\\lib\\site-packages (from matplotlib) (2.8.2)\n",
      "Requirement already satisfied: six>=1.5 in c:\\users\\prem shah\\appdata\\local\\programs\\python\\python311\\lib\\site-packages (from python-dateutil>=2.7->matplotlib) (1.16.0)\n"
     ]
    },
    {
     "name": "stderr",
     "output_type": "stream",
     "text": [
      "WARNING: Ignoring invalid distribution ~andas (C:\\Users\\Prem Shah\\AppData\\Local\\Programs\\Python\\Python311\\Lib\\site-packages)\n",
      "WARNING: Ignoring invalid distribution ~andas (C:\\Users\\Prem Shah\\AppData\\Local\\Programs\\Python\\Python311\\Lib\\site-packages)\n",
      "WARNING: Ignoring invalid distribution ~andas (C:\\Users\\Prem Shah\\AppData\\Local\\Programs\\Python\\Python311\\Lib\\site-packages)\n",
      "\n",
      "[notice] A new release of pip is available: 24.3.1 -> 25.0.1\n",
      "[notice] To update, run: C:\\Users\\Prem Shah\\AppData\\Local\\Programs\\Python\\Python311\\python.exe -m pip install --upgrade pip\n"
     ]
    },
    {
     "name": "stdout",
     "output_type": "stream",
     "text": [
      "Requirement already satisfied: seaborn in c:\\users\\prem shah\\appdata\\local\\programs\\python\\python311\\lib\\site-packages (0.12.2)\n",
      "Requirement already satisfied: numpy!=1.24.0,>=1.17 in c:\\users\\prem shah\\appdata\\local\\programs\\python\\python311\\lib\\site-packages (from seaborn) (1.25.2)\n",
      "Requirement already satisfied: pandas>=0.25 in c:\\users\\prem shah\\appdata\\local\\programs\\python\\python311\\lib\\site-packages (from seaborn) (2.2.3)\n",
      "Requirement already satisfied: matplotlib!=3.6.1,>=3.1 in c:\\users\\prem shah\\appdata\\local\\programs\\python\\python311\\lib\\site-packages (from seaborn) (3.7.2)\n",
      "Requirement already satisfied: contourpy>=1.0.1 in c:\\users\\prem shah\\appdata\\local\\programs\\python\\python311\\lib\\site-packages (from matplotlib!=3.6.1,>=3.1->seaborn) (1.1.0)\n",
      "Requirement already satisfied: cycler>=0.10 in c:\\users\\prem shah\\appdata\\local\\programs\\python\\python311\\lib\\site-packages (from matplotlib!=3.6.1,>=3.1->seaborn) (0.11.0)\n",
      "Requirement already satisfied: fonttools>=4.22.0 in c:\\users\\prem shah\\appdata\\local\\programs\\python\\python311\\lib\\site-packages (from matplotlib!=3.6.1,>=3.1->seaborn) (4.42.1)\n",
      "Requirement already satisfied: kiwisolver>=1.0.1 in c:\\users\\prem shah\\appdata\\local\\programs\\python\\python311\\lib\\site-packages (from matplotlib!=3.6.1,>=3.1->seaborn) (1.4.5)\n",
      "Requirement already satisfied: packaging>=20.0 in c:\\users\\prem shah\\appdata\\local\\programs\\python\\python311\\lib\\site-packages (from matplotlib!=3.6.1,>=3.1->seaborn) (23.1)\n",
      "Requirement already satisfied: pillow>=6.2.0 in c:\\users\\prem shah\\appdata\\local\\programs\\python\\python311\\lib\\site-packages (from matplotlib!=3.6.1,>=3.1->seaborn) (9.5.0)\n",
      "Requirement already satisfied: pyparsing<3.1,>=2.3.1 in c:\\users\\prem shah\\appdata\\local\\programs\\python\\python311\\lib\\site-packages (from matplotlib!=3.6.1,>=3.1->seaborn) (3.0.9)\n",
      "Requirement already satisfied: python-dateutil>=2.7 in c:\\users\\prem shah\\appdata\\local\\programs\\python\\python311\\lib\\site-packages (from matplotlib!=3.6.1,>=3.1->seaborn) (2.8.2)\n",
      "Requirement already satisfied: pytz>=2020.1 in c:\\users\\prem shah\\appdata\\local\\programs\\python\\python311\\lib\\site-packages (from pandas>=0.25->seaborn) (2023.3)\n",
      "Requirement already satisfied: tzdata>=2022.7 in c:\\users\\prem shah\\appdata\\local\\programs\\python\\python311\\lib\\site-packages (from pandas>=0.25->seaborn) (2023.3)\n",
      "Requirement already satisfied: six>=1.5 in c:\\users\\prem shah\\appdata\\local\\programs\\python\\python311\\lib\\site-packages (from python-dateutil>=2.7->matplotlib!=3.6.1,>=3.1->seaborn) (1.16.0)\n"
     ]
    },
    {
     "name": "stderr",
     "output_type": "stream",
     "text": [
      "WARNING: Ignoring invalid distribution ~andas (C:\\Users\\Prem Shah\\AppData\\Local\\Programs\\Python\\Python311\\Lib\\site-packages)\n",
      "WARNING: Ignoring invalid distribution ~andas (C:\\Users\\Prem Shah\\AppData\\Local\\Programs\\Python\\Python311\\Lib\\site-packages)\n",
      "WARNING: Ignoring invalid distribution ~andas (C:\\Users\\Prem Shah\\AppData\\Local\\Programs\\Python\\Python311\\Lib\\site-packages)\n",
      "\n",
      "[notice] A new release of pip is available: 24.3.1 -> 25.0.1\n",
      "[notice] To update, run: C:\\Users\\Prem Shah\\AppData\\Local\\Programs\\Python\\Python311\\python.exe -m pip install --upgrade pip\n"
     ]
    },
    {
     "name": "stdout",
     "output_type": "stream",
     "text": [
      "Requirement already satisfied: plotly in c:\\users\\prem shah\\appdata\\local\\programs\\python\\python311\\lib\\site-packages (6.0.1)\n",
      "Requirement already satisfied: narwhals>=1.15.1 in c:\\users\\prem shah\\appdata\\local\\programs\\python\\python311\\lib\\site-packages (from plotly) (1.35.0)\n",
      "Requirement already satisfied: packaging in c:\\users\\prem shah\\appdata\\local\\programs\\python\\python311\\lib\\site-packages (from plotly) (23.1)\n"
     ]
    },
    {
     "name": "stderr",
     "output_type": "stream",
     "text": [
      "WARNING: Ignoring invalid distribution ~andas (C:\\Users\\Prem Shah\\AppData\\Local\\Programs\\Python\\Python311\\Lib\\site-packages)\n",
      "WARNING: Ignoring invalid distribution ~andas (C:\\Users\\Prem Shah\\AppData\\Local\\Programs\\Python\\Python311\\Lib\\site-packages)\n",
      "WARNING: Ignoring invalid distribution ~andas (C:\\Users\\Prem Shah\\AppData\\Local\\Programs\\Python\\Python311\\Lib\\site-packages)\n",
      "\n",
      "[notice] A new release of pip is available: 24.3.1 -> 25.0.1\n",
      "[notice] To update, run: C:\\Users\\Prem Shah\\AppData\\Local\\Programs\\Python\\Python311\\python.exe -m pip install --upgrade pip\n"
     ]
    },
    {
     "name": "stdout",
     "output_type": "stream",
     "text": [
      "Collecting plotly_express\n",
      "  Using cached plotly_express-0.4.1-py2.py3-none-any.whl.metadata (1.7 kB)\n",
      "Requirement already satisfied: pandas>=0.20.0 in c:\\users\\prem shah\\appdata\\local\\programs\\python\\python311\\lib\\site-packages (from plotly_express) (2.2.3)\n",
      "Requirement already satisfied: plotly>=4.1.0 in c:\\users\\prem shah\\appdata\\local\\programs\\python\\python311\\lib\\site-packages (from plotly_express) (6.0.1)\n",
      "Requirement already satisfied: statsmodels>=0.9.0 in c:\\users\\prem shah\\appdata\\local\\programs\\python\\python311\\lib\\site-packages (from plotly_express) (0.14.4)\n",
      "Requirement already satisfied: scipy>=0.18 in c:\\users\\prem shah\\appdata\\local\\programs\\python\\python311\\lib\\site-packages (from plotly_express) (1.11.2)\n",
      "Requirement already satisfied: patsy>=0.5 in c:\\users\\prem shah\\appdata\\local\\programs\\python\\python311\\lib\\site-packages (from plotly_express) (1.0.1)\n",
      "Requirement already satisfied: numpy>=1.11 in c:\\users\\prem shah\\appdata\\local\\programs\\python\\python311\\lib\\site-packages (from plotly_express) (1.25.2)\n",
      "Requirement already satisfied: python-dateutil>=2.8.2 in c:\\users\\prem shah\\appdata\\local\\programs\\python\\python311\\lib\\site-packages (from pandas>=0.20.0->plotly_express) (2.8.2)\n",
      "Requirement already satisfied: pytz>=2020.1 in c:\\users\\prem shah\\appdata\\local\\programs\\python\\python311\\lib\\site-packages (from pandas>=0.20.0->plotly_express) (2023.3)\n",
      "Requirement already satisfied: tzdata>=2022.7 in c:\\users\\prem shah\\appdata\\local\\programs\\python\\python311\\lib\\site-packages (from pandas>=0.20.0->plotly_express) (2023.3)\n",
      "Requirement already satisfied: narwhals>=1.15.1 in c:\\users\\prem shah\\appdata\\local\\programs\\python\\python311\\lib\\site-packages (from plotly>=4.1.0->plotly_express) (1.35.0)\n",
      "Requirement already satisfied: packaging in c:\\users\\prem shah\\appdata\\local\\programs\\python\\python311\\lib\\site-packages (from plotly>=4.1.0->plotly_express) (23.1)\n",
      "Requirement already satisfied: six>=1.5 in c:\\users\\prem shah\\appdata\\local\\programs\\python\\python311\\lib\\site-packages (from python-dateutil>=2.8.2->pandas>=0.20.0->plotly_express) (1.16.0)\n",
      "Using cached plotly_express-0.4.1-py2.py3-none-any.whl (2.9 kB)\n",
      "Installing collected packages: plotly_express\n",
      "Successfully installed plotly_express-0.4.1\n"
     ]
    },
    {
     "name": "stderr",
     "output_type": "stream",
     "text": [
      "WARNING: Ignoring invalid distribution ~andas (C:\\Users\\Prem Shah\\AppData\\Local\\Programs\\Python\\Python311\\Lib\\site-packages)\n",
      "WARNING: Ignoring invalid distribution ~andas (C:\\Users\\Prem Shah\\AppData\\Local\\Programs\\Python\\Python311\\Lib\\site-packages)\n",
      "WARNING: Ignoring invalid distribution ~andas (C:\\Users\\Prem Shah\\AppData\\Local\\Programs\\Python\\Python311\\Lib\\site-packages)\n",
      "\n",
      "[notice] A new release of pip is available: 24.3.1 -> 25.0.1\n",
      "[notice] To update, run: C:\\Users\\Prem Shah\\AppData\\Local\\Programs\\Python\\Python311\\python.exe -m pip install --upgrade pip\n"
     ]
    },
    {
     "name": "stdout",
     "output_type": "stream",
     "text": [
      "Requirement already satisfied: numpy in c:\\users\\prem shah\\appdata\\local\\programs\\python\\python311\\lib\\site-packages (1.25.2)\n"
     ]
    },
    {
     "name": "stderr",
     "output_type": "stream",
     "text": [
      "WARNING: Ignoring invalid distribution ~andas (C:\\Users\\Prem Shah\\AppData\\Local\\Programs\\Python\\Python311\\Lib\\site-packages)\n",
      "WARNING: Ignoring invalid distribution ~andas (C:\\Users\\Prem Shah\\AppData\\Local\\Programs\\Python\\Python311\\Lib\\site-packages)\n",
      "WARNING: Ignoring invalid distribution ~andas (C:\\Users\\Prem Shah\\AppData\\Local\\Programs\\Python\\Python311\\Lib\\site-packages)\n",
      "\n",
      "[notice] A new release of pip is available: 24.3.1 -> 25.0.1\n",
      "[notice] To update, run: C:\\Users\\Prem Shah\\AppData\\Local\\Programs\\Python\\Python311\\python.exe -m pip install --upgrade pip\n"
     ]
    }
   ],
   "source": [
    "!pip install pandas\n",
    "!pip install matplotlib\n",
    "!pip install seaborn\n",
    "!pip install plotly\n",
    "!pip install plotly_express\n",
    "!pip install numpy"
   ]
  },
  {
   "cell_type": "code",
   "execution_count": 1,
   "id": "2e3070b2-bf72-49b8-ad4a-3e4f04de2f7d",
   "metadata": {},
   "outputs": [],
   "source": [
    "import pandas as pd\n",
    "import numpy as np\n",
    "import matplotlib.pyplot as plt\n",
    "import seaborn as sns\n",
    "import warnings\n",
    "warnings.filterwarnings(\"ignore\")"
   ]
  },
  {
   "cell_type": "code",
   "execution_count": 2,
   "id": "30d743f9-366a-4da9-89e5-b487e1062aee",
   "metadata": {},
   "outputs": [],
   "source": [
    "#Load the dataset\n",
    "df1 = pd.read_csv(\"smmh.csv\")"
   ]
  },
  {
   "cell_type": "code",
   "execution_count": null,
   "id": "b4beb5d3-0d5b-4fd7-a122-ef2d20dcfa92",
   "metadata": {},
   "outputs": [
    {
     "data": {
      "text/plain": [
       "(481, 21)"
      ]
     },
     "execution_count": 22,
     "metadata": {},
     "output_type": "execute_result"
    }
   ],
   "source": [
    "df1.shape"
   ]
  },
  {
   "cell_type": "code",
   "execution_count": null,
   "id": "9e99fd7b-8fad-42eb-b7c7-beedcd1a0f20",
   "metadata": {},
   "outputs": [],
   "source": [
    "# Make a working copy\n",
    "df = df1.copy()"
   ]
  },
  {
   "cell_type": "code",
   "execution_count": null,
   "id": "079eb8f8-7e0e-4e9c-8005-d8a29c4a05e7",
   "metadata": {},
   "outputs": [],
   "source": [
    "# Drop rows with missing values\n",
    "df_clean = df.dropna()"
   ]
  },
  {
   "cell_type": "code",
   "execution_count": null,
   "id": "8572aa62-ce39-4ce8-a7de-3aa45e18c7b9",
   "metadata": {},
   "outputs": [],
   "source": [
    "#print columns: remove timestamp not important"
   ]
  },
  {
   "cell_type": "code",
   "execution_count": null,
   "id": "a94f81ce-b8c7-4178-8bb2-fc714db78d98",
   "metadata": {},
   "outputs": [],
   "source": [
    "# Drop irrelevant columns (like Timestamp)\n",
    "df_clean = df_clean.drop(columns=['Timestamp'])"
   ]
  },
  {
   "cell_type": "code",
   "execution_count": null,
   "id": "37c31ba6-f8e0-41fc-82aa-b71f0a7c721e",
   "metadata": {},
   "outputs": [
    {
     "data": {
      "text/plain": [
       "2. Gender\n",
       "Female                 245\n",
       "Male                   201\n",
       "Nonbinary                1\n",
       "Non-binary               1\n",
       "unsure                   1\n",
       "Non binary               1\n",
       "There are others???      1\n",
       "Name: count, dtype: int64"
      ]
     },
     "execution_count": 20,
     "metadata": {},
     "output_type": "execute_result"
    }
   ],
   "source": [
    "# check the value counts in the Gender column using this line of code:\n",
    "df_clean['2. Gender'].value_counts()"
   ]
  },
  {
   "cell_type": "markdown",
   "id": "0b32d491-f15a-4d95-b94a-fc9322b9c4fe",
   "metadata": {},
   "source": [
    "Since only \"Male\" and \"Female\" have a meaningful count, and the rest (like \"Nonbinary\", \"unsure\", etc.) appear only once, you can simplify this column into two main groups:"
   ]
  },
  {
   "cell_type": "code",
   "execution_count": null,
   "id": "ffb4b769-f8bb-444d-bfb2-43163324c83c",
   "metadata": {
    "scrolled": true
   },
   "outputs": [
    {
     "name": "stdout",
     "output_type": "stream",
     "text": [
      "2. Gender\n",
      "Female    245\n",
      "Male      201\n",
      "Name: count, dtype: int64\n"
     ]
    }
   ],
   "source": [
    "# Keep only Male and Female, drop others\n",
    "df_clean = df_clean[df_clean['2. Gender'].isin(['Male', 'Female'])]\n",
    "print(df_clean['2. Gender'].value_counts())"
   ]
  },
  {
   "cell_type": "code",
   "execution_count": null,
   "id": "0ce81688-8153-4748-993b-6b9639e99f62",
   "metadata": {},
   "outputs": [],
   "source": [
    "# Encode as binary: Male = 1, Female = 0\n",
    "df_clean['Gender_binary'] = df_clean['2. Gender'].map({'Male': 1, 'Female': 0})"
   ]
  },
  {
   "cell_type": "code",
   "execution_count": null,
   "id": "94398e04-8ba0-4423-82a7-5fdbcc34e135",
   "metadata": {},
   "outputs": [],
   "source": [
    "df_clean = df_clean.drop(columns=['2. Gender'])"
   ]
  },
  {
   "cell_type": "code",
   "execution_count": null,
   "id": "7e2cefff-9065-43e2-89e6-48ca5df71da7",
   "metadata": {
    "scrolled": true
   },
   "outputs": [
    {
     "data": {
      "text/plain": [
       "3. Relationship Status\n",
       "Single               261\n",
       "Married               94\n",
       "In a relationship     85\n",
       "Divorced               6\n",
       "Name: count, dtype: int64"
      ]
     },
     "execution_count": 21,
     "metadata": {},
     "output_type": "execute_result"
    }
   ],
   "source": [
    "df_clean['3. Relationship Status'].value_counts()"
   ]
  },
  {
   "cell_type": "code",
   "execution_count": null,
   "id": "8a00a0e1-b98a-4be0-9cc6-c1011db4e29c",
   "metadata": {},
   "outputs": [],
   "source": [
    "#function to do one hot coding"
   ]
  },
  {
   "cell_type": "code",
   "execution_count": null,
   "id": "8b7019e3-cb32-4799-b88f-048709ca2fb6",
   "metadata": {},
   "outputs": [],
   "source": [
    "# Step 1: Define allowed categories\n",
    "allowed_relationships = ['Single', 'Married', 'In a relationship']\n",
    "\n",
    "# Step 2: Filter rows where 'Relationship Status' is one of the allowed values\n",
    "df_clean = df_clean[df_clean['3. Relationship Status'].isin(allowed_relationships)]"
   ]
  },
  {
   "cell_type": "code",
   "execution_count": null,
   "id": "3b0bf274-5fe9-463b-b000-cffb6fec3bf0",
   "metadata": {},
   "outputs": [],
   "source": [
    "# Apply one-hot encoding to '3. Relationship Status'\n",
    "df_clean = pd.get_dummies(df_clean, columns=['3. Relationship Status'], drop_first=True)"
   ]
  },
  {
   "cell_type": "code",
   "execution_count": null,
   "id": "10e85d0a-1583-491c-947c-a6cc9312caef",
   "metadata": {},
   "outputs": [],
   "source": [
    "# Convert True/False to 1/0 for relationship status columns\n",
    "df_clean[['3. Relationship Status_Married', '3. Relationship Status_Single']] = \\\n",
    "    df_clean[['3. Relationship Status_Married', '3. Relationship Status_Single']].astype(int)\n"
   ]
  },
  {
   "cell_type": "code",
   "execution_count": null,
   "id": "6d8594b3-8516-44e5-aa35-d55bab3534cc",
   "metadata": {},
   "outputs": [
    {
     "data": {
      "text/plain": [
       "4. Occupation Status\n",
       "University Student    277\n",
       "Salaried Worker       118\n",
       "School Student         42\n",
       "Retired                 3\n",
       "Name: count, dtype: int64"
      ]
     },
     "execution_count": 29,
     "metadata": {},
     "output_type": "execute_result"
    }
   ],
   "source": [
    "df_clean['4. Occupation Status'].value_counts()"
   ]
  },
  {
   "cell_type": "markdown",
   "id": "229def72-e2e5-40c1-9a26-fb2fb62ac4f2",
   "metadata": {},
   "source": [
    "dropping Retired due to low count"
   ]
  },
  {
   "cell_type": "code",
   "execution_count": null,
   "id": "c7314d15-d9bf-4466-b915-8dac52633b8d",
   "metadata": {},
   "outputs": [],
   "source": [
    "# Drop \"Retired\" from Occupation\n",
    "# Filter out rows where occupation is 'Retired'\n",
    "df_clean = df_clean[df_clean['4. Occupation Status'] != 'Retired']"
   ]
  },
  {
   "cell_type": "code",
   "execution_count": null,
   "id": "06493f04-382e-4778-a215-e37ac6f538fa",
   "metadata": {},
   "outputs": [],
   "source": [
    "# Apply one-hot encoding\n",
    "df_clean = pd.get_dummies(df_clean, columns=['4. Occupation Status'], drop_first=True)"
   ]
  },
  {
   "cell_type": "code",
   "execution_count": null,
   "id": "adcbecff-92f0-45bb-ae34-0e7fe2bf8f1e",
   "metadata": {},
   "outputs": [],
   "source": [
    "# Convert boolean True/False to integer 1/0 for occupation columns\n",
    "occupation_cols = [col for col in df_clean.columns if '4. Occupation Status_' in col]\n",
    "df_clean[occupation_cols] = df_clean[occupation_cols].astype(int)"
   ]
  },
  {
   "cell_type": "code",
   "execution_count": null,
   "id": "916a1bd9-e9fd-4e15-8036-ae39f8d9edad",
   "metadata": {},
   "outputs": [
    {
     "data": {
      "text/plain": [
       "5. What type of organizations are you affiliated with?\n",
       "University                        236\n",
       "Private                            54\n",
       "School                             41\n",
       "Company                            29\n",
       "University, Company                19\n",
       "University, Private                16\n",
       "School, University                  9\n",
       "Company, Private                    7\n",
       "Goverment                           5\n",
       "University, Company, Private        5\n",
       "School, University, Private         4\n",
       "University, N/A                     3\n",
       "University, Goverment               2\n",
       "School, Company                     2\n",
       "School, N/A                         2\n",
       "University, Goverment, Private      1\n",
       "School, Private                     1\n",
       "University, Company, Goverment      1\n",
       "Name: count, dtype: int64"
      ]
     },
     "execution_count": 38,
     "metadata": {},
     "output_type": "execute_result"
    }
   ],
   "source": [
    "df_clean['5. What type of organizations are you affiliated with?'].value_counts()"
   ]
  },
  {
   "cell_type": "code",
   "execution_count": null,
   "id": "164aa0ac-5a0a-462c-a5db-d0cab75baea0",
   "metadata": {},
   "outputs": [],
   "source": [
    "# Clean whitespace and split multiple affiliations\n",
    "df_clean['5. What type of organizations are you affiliated with?'] = \\\n",
    "    df_clean['5. What type of organizations are you affiliated with?'].fillna('').apply(lambda x: [i.strip() for i in x.split(',')])\n",
    "\n",
    "# Use MultiLabelBinarizer\n",
    "from sklearn.preprocessing import MultiLabelBinarizer\n",
    "mlb = MultiLabelBinarizer()\n",
    "\n",
    "# Transform the multi-label column\n",
    "affiliation_dummies = pd.DataFrame(\n",
    "    mlb.fit_transform(df_clean['5. What type of organizations are you affiliated with?']),\n",
    "    columns=['Aff_' + col for col in mlb.classes_],\n",
    "    index=df_clean.index\n",
    ")\n",
    "\n",
    "# Concatenate with original DataFrame\n",
    "df_clean = pd.concat([df_clean.drop(columns=['5. What type of organizations are you affiliated with?']), affiliation_dummies], axis=1)\n"
   ]
  },
  {
   "cell_type": "code",
   "execution_count": null,
   "id": "95a17e54-cc30-429d-b9ea-8da33ddedd16",
   "metadata": {},
   "outputs": [
    {
     "data": {
      "text/plain": [
       "6. Do you use social media?\n",
       "Yes    435\n",
       "No       2\n",
       "Name: count, dtype: int64"
      ]
     },
     "execution_count": 42,
     "metadata": {},
     "output_type": "execute_result"
    }
   ],
   "source": [
    "# Check unique values\n",
    "df_clean['6. Do you use social media?'].value_counts()"
   ]
  },
  {
   "cell_type": "code",
   "execution_count": null,
   "id": "5c840311-3e34-46f8-b597-d2ca0835a564",
   "metadata": {},
   "outputs": [],
   "source": [
    "df_clean['6. Do you use social media?'] = df_clean['6. Do you use social media?'].map({'Yes': 1, 'No': 0})"
   ]
  },
  {
   "cell_type": "code",
   "execution_count": null,
   "id": "add740a8-cc6f-4ad9-b57e-1289717c4ad0",
   "metadata": {},
   "outputs": [
    {
     "data": {
      "text/plain": [
       "7. What social media platforms do you commonly use?\n",
       "Facebook, Instagram, YouTube                                                 31\n",
       "Facebook, YouTube                                                            27\n",
       "Facebook, Instagram, YouTube, Snapchat                                       24\n",
       "Facebook, Instagram, YouTube, Discord                                        18\n",
       "Facebook                                                                     17\n",
       "                                                                             ..\n",
       "Facebook, Discord, Reddit                                                     1\n",
       "Instagram, Discord, Reddit, Pinterest, TikTok                                 1\n",
       "Twitter, Instagram, YouTube, Snapchat, Discord, Reddit, Pinterest, TikTok     1\n",
       "Facebook, YouTube, Snapchat                                                   1\n",
       "Instagram, YouTube, Snapchat, Discord, Reddit, Pinterest, TikTok              1\n",
       "Name: count, Length: 121, dtype: int64"
      ]
     },
     "execution_count": 694,
     "metadata": {},
     "output_type": "execute_result"
    }
   ],
   "source": [
    "df_clean['7. What social media platforms do you commonly use?'].value_counts()"
   ]
  },
  {
   "cell_type": "code",
   "execution_count": null,
   "id": "8bc8722d-426d-4f6f-a89b-ad03fbe382d2",
   "metadata": {},
   "outputs": [],
   "source": [
    "# Create dummy variables for top platforms\n",
    "platforms = ['Instagram', 'Facebook', 'Twitter', 'Snapchat', 'LinkedIn', 'YouTube']\n",
    "\n",
    "for platform in platforms:\n",
    "    df_clean[f'platform_{platform}'] = df_clean['7. What social media platforms do you commonly use?']\\\n",
    "                                        .str.contains(platform, case=False, na=False).astype(int)\n"
   ]
  },
  {
   "cell_type": "code",
   "execution_count": null,
   "id": "5d11d534-8101-4c74-844e-6ad394ebe229",
   "metadata": {},
   "outputs": [],
   "source": [
    "#Drop the original column (optional)\n",
    "df_clean.drop(columns=['7. What social media platforms do you commonly use?'], inplace=True)\n"
   ]
  },
  {
   "cell_type": "code",
   "execution_count": null,
   "id": "70ad60d0-0270-47e8-a6ce-269e3a918a00",
   "metadata": {},
   "outputs": [
    {
     "data": {
      "text/plain": [
       "8. What is the average time you spend on social media every day?\n",
       "More than 5 hours        107\n",
       "Between 2 and 3 hours     92\n",
       "Between 3 and 4 hours     85\n",
       "Between 1 and 2 hours     62\n",
       "Between 4 and 5 hours     61\n",
       "Less than an Hour         30\n",
       "Name: count, dtype: int64"
      ]
     },
     "execution_count": 700,
     "metadata": {},
     "output_type": "execute_result"
    }
   ],
   "source": [
    "# Check unique values\n",
    "df_clean['8. What is the average time you spend on social media every day?'].value_counts()"
   ]
  },
  {
   "cell_type": "code",
   "execution_count": null,
   "id": "2da573ad-f51a-494e-92e8-24aaf8ec0638",
   "metadata": {},
   "outputs": [],
   "source": [
    "time_mapping = {\n",
    "    'Less than an Hour': 0.5,\n",
    "    'Between 1 and 2 hours': 1.5,\n",
    "    'Between 2 and 3 hours': 2.5,\n",
    "    'Between 3 and 4 hours': 3.5,\n",
    "    'Between 4 and 5 hours': 4.5,\n",
    "    'More than 5 hours': 6\n",
    "}\n"
   ]
  },
  {
   "cell_type": "code",
   "execution_count": null,
   "id": "f965485c-845b-4cfa-8a91-7bde67a76160",
   "metadata": {},
   "outputs": [],
   "source": [
    "#Code to Apply the Mapping:\n",
    "df_clean['8. What is the average time you spend on social media every day?'] = \\\n",
    "    df_clean['8. What is the average time you spend on social media every day?'].map(time_mapping)\n"
   ]
  },
  {
   "cell_type": "code",
   "execution_count": null,
   "id": "b42979c2-c0c3-42ae-90c5-c2ee39639be3",
   "metadata": {},
   "outputs": [
    {
     "name": "stdout",
     "output_type": "stream",
     "text": [
      "8. What is the average time you spend on social media every day?\n",
      "1     30\n",
      "2     62\n",
      "3     92\n",
      "4    253\n",
      "Name: count, dtype: int64\n"
     ]
    }
   ],
   "source": [
    "# Check how many entries fall into each mapped category\n",
    "print(df_clean['8. What is the average time you spend on social media every day?'].value_counts().sort_index())\n"
   ]
  },
  {
   "cell_type": "code",
   "execution_count": null,
   "id": "b79bca44-f179-465b-a685-6a7c871498f1",
   "metadata": {},
   "outputs": [
    {
     "data": {
      "text/plain": [
       "['1. What is your age?',\n",
       " '6. Do you use social media?',\n",
       " '8. What is the average time you spend on social media every day?',\n",
       " '9. How often do you find yourself using Social media without a specific purpose?',\n",
       " '10. How often do you get distracted by Social media when you are busy doing something?',\n",
       " \"11. Do you feel restless if you haven't used Social media in a while?\",\n",
       " '12. On a scale of 1 to 5, how easily distracted are you?',\n",
       " '13. On a scale of 1 to 5, how much are you bothered by worries?',\n",
       " '14. Do you find it difficult to concentrate on things?',\n",
       " '15. On a scale of 1-5, how often do you compare yourself to other successful people through the use of social media?',\n",
       " '16. Following the previous question, how do you feel about these comparisons, generally speaking?',\n",
       " '17. How often do you look to seek validation from features of social media?',\n",
       " '18. How often do you feel depressed or down?',\n",
       " '19. On a scale of 1 to 5, how frequently does your interest in daily activities fluctuate?',\n",
       " '20. On a scale of 1 to 5, how often do you face issues regarding sleep?',\n",
       " 'Gender_binary',\n",
       " '3. Relationship Status_Married',\n",
       " '3. Relationship Status_Single',\n",
       " '4. Occupation Status_School Student',\n",
       " '4. Occupation Status_University Student',\n",
       " 'Aff_Company',\n",
       " 'Aff_Goverment',\n",
       " 'Aff_N/A',\n",
       " 'Aff_Private',\n",
       " 'Aff_School',\n",
       " 'Aff_University',\n",
       " 'platform_Instagram',\n",
       " 'platform_Facebook',\n",
       " 'platform_Twitter',\n",
       " 'platform_Snapchat',\n",
       " 'platform_LinkedIn',\n",
       " 'platform_YouTube']"
      ]
     },
     "execution_count": 708,
     "metadata": {},
     "output_type": "execute_result"
    }
   ],
   "source": [
    "df_clean.columns.tolist()"
   ]
  },
  {
   "cell_type": "code",
   "execution_count": null,
   "id": "74272b05-ca5b-4b60-989e-09e35086595a",
   "metadata": {},
   "outputs": [],
   "source": [
    "df_clean['depression_binary'] = df_clean['18. How often do you feel depressed or down?'].apply(lambda x: 1 if x >= 3 else 0)"
   ]
  },
  {
   "cell_type": "code",
   "execution_count": null,
   "id": "1a2745ae-71b4-4461-9d07-7df84125986c",
   "metadata": {},
   "outputs": [],
   "source": [
    "# Save final cleaned and preprocessed dataset to CSV\n",
    "df_clean.to_csv(\"smmh_final_clean.csv\", index=False)"
   ]
  },
  {
   "cell_type": "code",
   "execution_count": null,
   "id": "a55c9404-667e-48cd-bcc1-94a0b4834f80",
   "metadata": {},
   "outputs": [
    {
     "name": "stdout",
     "output_type": "stream",
     "text": [
      "Reordered and saved as 'smmh_final_model_ready.csv'\n"
     ]
    }
   ],
   "source": [
    "# Assume df_clean is your cleaned and feature-engineered DataFrame\n",
    "# and 'depression_binary' is your target variable\n",
    "\n",
    "# Step 1: Reorder columns to move target to the end\n",
    "other_columns = [col for col in df_clean.columns if col != 'depression_binary']\n",
    "df_clean = df_clean[other_columns + ['depression_binary']]\n",
    "\n",
    "# Step 2: Save to CSV\n",
    "df_clean.to_csv(\"smmh_final_model_ready.csv\", index=False)\n",
    "print(\"Reordered and saved as 'smmh_final_model_ready.csv'\")\n"
   ]
  },
  {
   "cell_type": "code",
   "execution_count": null,
   "id": "dd8c0d33-f668-4eeb-a150-15bb501067da",
   "metadata": {},
   "outputs": [],
   "source": []
  }
 ],
 "metadata": {
  "kernelspec": {
   "display_name": "Python 3",
   "language": "python",
   "name": "python3"
  },
  "language_info": {
   "codemirror_mode": {
    "name": "ipython",
    "version": 3
   },
   "file_extension": ".py",
   "mimetype": "text/x-python",
   "name": "python",
   "nbconvert_exporter": "python",
   "pygments_lexer": "ipython3",
   "version": "3.11.3"
  }
 },
 "nbformat": 4,
 "nbformat_minor": 5
}
